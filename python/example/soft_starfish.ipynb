{
 "cells": [
  {
   "cell_type": "code",
   "execution_count": 1,
   "metadata": {},
   "outputs": [],
   "source": [
    "import sys\n",
    "sys.path.append('../')\n",
    "import os\n",
    "\n",
    "from pathlib import Path\n",
    "import time\n",
    "import numpy as np\n",
    "import scipy.optimize\n",
    "import pickle\n",
    "import matplotlib.pyplot as plt\n",
    "\n",
    "from py_diff_pd.common.common import ndarray, create_folder\n",
    "from py_diff_pd.common.common import print_info, print_ok, print_error, print_warning\n",
    "from py_diff_pd.common.grad_check import check_gradients\n",
    "from py_diff_pd.common.display import export_gif\n",
    "from py_diff_pd.core.py_diff_pd_core import StdRealVector\n",
    "from py_diff_pd.env.soft_starfish_env_3d import SoftStarfishEnv3d\n",
    "from py_diff_pd.common.project_path import root_path\n",
    "from py_diff_pd.core.py_diff_pd_core import HexMesh3d, HexDeformable, StdRealVector\n",
    "import py_diff_pd.common.hex_mesh as hex"
   ]
  },
  {
   "cell_type": "code",
   "execution_count": 3,
   "metadata": {},
   "outputs": [
    {
     "name": "stdout",
     "output_type": "stream",
     "text": [
      "['starfish.mb', 'starfish_demo.bin', 'starfish_demo.obj', 'starfish_n_1.obj', 'starfish_n_10.obj', 'starfish_n_100.obj', 'starfish_n_101.obj', 'starfish_n_102.obj', 'starfish_n_103.obj', 'starfish_n_104.obj', 'starfish_n_105.obj', 'starfish_n_106.obj', 'starfish_n_107.obj', 'starfish_n_108.obj', 'starfish_n_109.obj', 'starfish_n_11.obj', 'starfish_n_110.obj', 'starfish_n_111.obj', 'starfish_n_112.obj', 'starfish_n_113.obj', 'starfish_n_114.obj', 'starfish_n_115.obj', 'starfish_n_116.obj', 'starfish_n_117.obj', 'starfish_n_118.obj', 'starfish_n_119.obj', 'starfish_n_12.obj', 'starfish_n_120.obj', 'starfish_n_13.obj', 'starfish_n_14.obj', 'starfish_n_15.obj', 'starfish_n_16.obj', 'starfish_n_17.obj', 'starfish_n_18.obj', 'starfish_n_19.obj', 'starfish_n_2.obj', 'starfish_n_20.obj', 'starfish_n_21.obj', 'starfish_n_22.obj', 'starfish_n_23.obj', 'starfish_n_24.obj', 'starfish_n_25.obj', 'starfish_n_26.obj', 'starfish_n_27.obj', 'starfish_n_28.obj', 'starfish_n_29.obj', 'starfish_n_3.obj', 'starfish_n_30.obj', 'starfish_n_31.obj', 'starfish_n_32.obj', 'starfish_n_33.obj', 'starfish_n_34.obj', 'starfish_n_35.obj', 'starfish_n_36.obj', 'starfish_n_37.obj', 'starfish_n_38.obj', 'starfish_n_39.obj', 'starfish_n_4.obj', 'starfish_n_40.obj', 'starfish_n_41.obj', 'starfish_n_42.obj', 'starfish_n_43.obj', 'starfish_n_44.obj', 'starfish_n_45.obj', 'starfish_n_46.obj', 'starfish_n_47.obj', 'starfish_n_48.obj', 'starfish_n_49.obj', 'starfish_n_5.obj', 'starfish_n_50.obj', 'starfish_n_51.obj', 'starfish_n_52.obj', 'starfish_n_53.obj', 'starfish_n_54.obj', 'starfish_n_55.obj', 'starfish_n_56.obj', 'starfish_n_57.obj', 'starfish_n_58.obj', 'starfish_n_59.obj', 'starfish_n_6.obj', 'starfish_n_60.obj', 'starfish_n_61.obj', 'starfish_n_62.obj', 'starfish_n_63.obj', 'starfish_n_64.obj', 'starfish_n_65.obj', 'starfish_n_66.obj', 'starfish_n_67.obj', 'starfish_n_68.obj', 'starfish_n_69.obj', 'starfish_n_7.obj', 'starfish_n_70.obj', 'starfish_n_71.obj', 'starfish_n_72.obj', 'starfish_n_73.obj', 'starfish_n_74.obj', 'starfish_n_75.obj', 'starfish_n_76.obj', 'starfish_n_77.obj', 'starfish_n_78.obj', 'starfish_n_79.obj', 'starfish_n_8.obj', 'starfish_n_80.obj', 'starfish_n_81.obj', 'starfish_n_82.obj', 'starfish_n_83.obj', 'starfish_n_84.obj', 'starfish_n_85.obj', 'starfish_n_86.obj', 'starfish_n_87.obj', 'starfish_n_88.obj', 'starfish_n_89.obj', 'starfish_n_9.obj', 'starfish_n_90.obj', 'starfish_n_91.obj', 'starfish_n_92.obj', 'starfish_n_93.obj', 'starfish_n_94.obj', 'starfish_n_95.obj', 'starfish_n_96.obj', 'starfish_n_97.obj', 'starfish_n_98.obj', 'starfish_n_99.obj', 'starfish_objs.mb']\n"
     ]
    }
   ],
   "source": [
    "# test env\n",
    "asset_folder = Path('/mnt/e/muscleCode/sample_muscle_data/starfish')\n",
    "# list all the files in the folder\n",
    "files = os.listdir(asset_folder)\n",
    "print(files)\n",
    "input_obj = asset_folder / 'starfish_demo.obj'"
   ]
  },
  {
   "cell_type": "code",
   "execution_count": 3,
   "metadata": {},
   "outputs": [
    {
     "name": "stdout",
     "output_type": "stream",
     "text": [
      "initialize hex mesh time: 0.012445688247680664\n",
      "hex2obj time: 0.03848004341125488\n"
     ]
    }
   ],
   "source": [
    "time_check = time.time()\n",
    "\n",
    "asset_folder = Path('/mnt/e/muscleCode/sample_muscle_data/starfish')\n",
    "# list all the files in the folder\n",
    "input_obj = asset_folder / 'starfish_demo_voxel.obj'\n",
    "mesh_bin = asset_folder / 'starfish_demo_voxel.bin'\n",
    "voxel_output = asset_folder / 'starfish_demo_voxel_output.obj'\n",
    "json_file_path = asset_folder / 'starfish_demo_48x9x46.json'\n",
    "\n",
    "\n",
    "\n",
    "time_check = time.time()\n",
    "mesh = HexMesh3d()\n",
    "mesh.Initialize(str(mesh_bin))\n",
    "print('initialize hex mesh time:', time.time()-time_check)\n",
    "\n",
    "time_check = time.time()\n",
    "hex.hex2obj(mesh, voxel_output, 'tri')\n",
    "print('hex2obj time:', time.time()-time_check)\n"
   ]
  },
  {
   "cell_type": "code",
   "execution_count": 14,
   "metadata": {},
   "outputs": [],
   "source": [
    "import os\n",
    "import copy\n",
    "file_count = 120\n",
    "input_dir =  \"/mnt/e/muscleCode/sample_muscle_data/starfish/\"\n",
    "output_dir = \"E:/muscleCode/sample_muscle_data/starfish/\"\n",
    "# read star fish obj file trimesh\n",
    "# open path / starfish_frame_1.obj, parse lines starting with 'v ' and store xyz in a list\n",
    "\n",
    "def load_tri_starfish_obj(input_dir, file_name):\n",
    "    vertex_lines,first_lines , rest_lines = [],[],[]\n",
    "    count = 0\n",
    "    with open(os.path.join(input_dir, file_name), 'r') as file:\n",
    "        for line in file:\n",
    "            if count <3:\n",
    "                first_lines.append(line)\n",
    "            elif count >= 1085: # hardcoded for starfish datasets\n",
    "                rest_lines.append(line)\n",
    "            else:\n",
    "                parts = line.strip().split()\n",
    "                xyz = [float(parts[1]), float(parts[2]), float(parts[3])]\n",
    "                vertex_lines.append(xyz)\n",
    "            count += 1\n",
    "    return vertex_lines, first_lines, rest_lines\n",
    "\n",
    "\n",
    "def load_hex_starfish_obj(input_dir, file_name):\n",
    "    vertex_lines, rest_lines = [],[]\n",
    "    with open(os.path.join(input_dir, file_name), 'r') as file:\n",
    "        for line in file:\n",
    "            if not line.startswith('v '):\n",
    "                rest_lines.append(line)\n",
    "            else:\n",
    "                parts = line.strip().split()\n",
    "                xyz = [float(parts[1]), float(parts[2]), float(parts[3])]\n",
    "                vertex_lines.append(xyz) \n",
    "    return vertex_lines, rest_lines\n",
    "\n",
    "# overwrite the starfish obj file with new vertex positions\n",
    "def write_tri_starfish_obj(output_dir, output_name, first_lines, rest_lines, new_verts):\n",
    "    # new verts [[x,y,z]]\n",
    "    with open(os.path.join(output_dir, output_name), 'w') as file:\n",
    "        for line in first_lines:\n",
    "            file.write(line)\n",
    "        for v in new_verts:\n",
    "            file.write(f\"v {v[0]} {v[1]} {v[2]}\\n\")\n",
    "        for line in rest_lines:\n",
    "            file.write(line)\n",
    " "
   ]
  },
  {
   "cell_type": "code",
   "execution_count": 18,
   "metadata": {},
   "outputs": [
    {
     "data": {
      "text/plain": [
       "16314"
      ]
     },
     "execution_count": 18,
     "metadata": {},
     "output_type": "execute_result"
    }
   ],
   "source": [
    "obj2_verts = mesh.py_vertices()"
   ]
  },
  {
   "cell_type": "code",
   "execution_count": 22,
   "metadata": {},
   "outputs": [],
   "source": [
    "\n",
    "# load obj1 and hex mesh, construct mapping and save to json\n",
    "obj1_verts, first_lines, rest_lines = load_tri_starfish_obj(input_dir, \"starfish_1.obj\")\n",
    "obj2_verts = mesh.py_vertices()\n",
    "one_to_hex_mapping = {}\n",
    "hex_to_one_mapping = {}\n",
    "all_one_to_hex_dist = 0\n",
    "for i, v in enumerate(obj1_verts):\n",
    "    min_dist = float('inf')\n",
    "    min_idx = -1\n",
    "    for j in range(0, len(obj2_verts), 3):\n",
    "        hex_v = obj2_verts[j:j+3]\n",
    "        dist = sum([(v[k] - hex_v[k]) ** 2 for k in range(3)])\n",
    "        if dist < min_dist:\n",
    "            min_dist = dist\n",
    "            min_idx = j\n",
    "    one_to_hex_mapping[i] = min_idx\n",
    "    all_one_to_hex_dist += min_dist\n",
    "    if min_idx in hex_to_one_mapping:\n",
    "        hex_to_one_mapping[min_idx].append(i)\n",
    "    else:\n",
    "        hex_to_one_mapping[min_idx] = [i]"
   ]
  },
  {
   "cell_type": "code",
   "execution_count": 25,
   "metadata": {},
   "outputs": [
    {
     "name": "stdout",
     "output_type": "stream",
     "text": [
      "0.0006167308275463548\n",
      "814 84 16 5 5 5438.0\n",
      "1082\n"
     ]
    }
   ],
   "source": [
    "print(all_one_to_hex_dist / len(obj1_verts))\n",
    "# count number of 1,2,3,4,5+ in hex_to_one_mapping\n",
    "one_count, two_count, three_count, four_count, five_plus_count = 0, 0, 0, 0, 0\n",
    "for k, v in hex_to_one_mapping.items():\n",
    "    if len(v) == 1:\n",
    "        one_count += 1\n",
    "    elif len(v) == 2:\n",
    "        two_count += 1\n",
    "    elif len(v) == 3:\n",
    "        three_count += 1\n",
    "    elif len(v) == 4:\n",
    "        four_count += 1\n",
    "    else:\n",
    "        five_plus_count += 1\n",
    "print(one_count, two_count, three_count, four_count, five_plus_count, len(obj2_verts) / 3)\n",
    "print(len(obj1_verts))\n"
   ]
  },
  {
   "cell_type": "code",
   "execution_count": null,
   "metadata": {},
   "outputs": [],
   "source": [
    "# write to json\n",
    "import json\n",
    "hex_to_one_json = asset_folder / 'hex_to_one.json'\n",
    "one_to_hex_json = asset_folder / 'one_to_hex.json'\n",
    "with open(hex_to_one_json, 'w') as f:\n",
    "    json.dump(hex_to_one_mapping, f)\n",
    "with open(one_to_hex_json, 'w') as f:\n",
    "    json.dump(one_to_hex_mapping, f)"
   ]
  }
 ],
 "metadata": {
  "kernelspec": {
   "display_name": "Python 3",
   "language": "python",
   "name": "python3"
  },
  "language_info": {
   "codemirror_mode": {
    "name": "ipython",
    "version": 3
   },
   "file_extension": ".py",
   "mimetype": "text/x-python",
   "name": "python",
   "nbconvert_exporter": "python",
   "pygments_lexer": "ipython3",
   "version": "3.8.18"
  }
 },
 "nbformat": 4,
 "nbformat_minor": 2
}
