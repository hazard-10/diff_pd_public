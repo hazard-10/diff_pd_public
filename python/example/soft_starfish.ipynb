{
 "cells": [
  {
   "cell_type": "code",
   "execution_count": 39,
   "metadata": {},
   "outputs": [],
   "source": [
    "import sys\n",
    "sys.path.append('../')\n",
    "import os\n",
    "\n",
    "from pathlib import Path\n",
    "import time\n",
    "import numpy as np\n",
    "import scipy.optimize\n",
    "import pickle\n",
    "import matplotlib.pyplot as plt\n",
    "\n",
    "from py_diff_pd.common.common import ndarray, create_folder\n",
    "from py_diff_pd.common.common import print_info, print_ok, print_error, print_warning\n",
    "from py_diff_pd.common.grad_check import check_gradients\n",
    "from py_diff_pd.common.display import export_gif\n",
    "from py_diff_pd.core.py_diff_pd_core import StdRealVector\n",
    "from py_diff_pd.env.soft_starfish_env_3d import SoftStarfishEnv3d\n",
    "from py_diff_pd.common.project_path import root_path\n",
    "from py_diff_pd.core.py_diff_pd_core import HexMesh3d, HexDeformable, StdRealVector\n",
    "import py_diff_pd.common.hex_mesh as hex"
   ]
  },
  {
   "cell_type": "code",
   "execution_count": 40,
   "metadata": {},
   "outputs": [],
   "source": [
    "input_dir = path = \"/mnt/e/muscleCode/sample_muscle_data/starfish\"\n",
    "input_obj_path = os.path.join(input_dir, \"starfish_demo.obj\")\n",
    "hex_bin_path = os.path.join(input_dir, \"starfish_demo.bin\")\n",
    "hex_obj_path = os.path.join(input_dir, \"starfish_hex.obj\")\n",
    "dx = 0.18\n",
    "origin = ndarray([0, 0, 0])"
   ]
  },
  {
   "cell_type": "code",
   "execution_count": 41,
   "metadata": {},
   "outputs": [],
   "source": [
    "# abs path\n",
    "input_obj_path = '/mnt/e/muscleCode/sample_muscle_data/starfish/starfish_demo.obj'"
   ]
  },
  {
   "cell_type": "code",
   "execution_count": 44,
   "metadata": {},
   "outputs": [
    {
     "name": "stdout",
     "output_type": "stream",
     "text": [
      "loaded as trimesh\n",
      "[5 0 5] dimensions\n"
     ]
    }
   ],
   "source": [
    "voxels = hex.voxelize(input_obj_path, dx)"
   ]
  },
  {
   "cell_type": "code",
   "execution_count": 45,
   "metadata": {},
   "outputs": [
    {
     "ename": "IndexError",
     "evalue": "tuple index out of range",
     "output_type": "error",
     "traceback": [
      "\u001b[0;31m---------------------------------------------------------------------------\u001b[0m",
      "\u001b[0;31mIndexError\u001b[0m                                Traceback (most recent call last)",
      "Cell \u001b[0;32mIn[45], line 1\u001b[0m\n\u001b[0;32m----> 1\u001b[0m voxel_indices, vertex_flags \u001b[38;5;241m=\u001b[39m \u001b[38;5;28;43mhex\u001b[39;49m\u001b[38;5;241;43m.\u001b[39;49m\u001b[43mgenerate_hex_mesh\u001b[49m\u001b[43m(\u001b[49m\u001b[43mvoxels\u001b[49m\u001b[43m,\u001b[49m\u001b[43m \u001b[49m\u001b[43mdx\u001b[49m\u001b[43m,\u001b[49m\u001b[43m \u001b[49m\u001b[43morigin\u001b[49m\u001b[43m,\u001b[49m\u001b[43m \u001b[49m\u001b[43mhex_bin_path\u001b[49m\u001b[43m)\u001b[49m\n",
      "File \u001b[0;32m/mnt/e/wsl_projects/diff_pd_public/python/example/../py_diff_pd/common/hex_mesh.py:60\u001b[0m, in \u001b[0;36mgenerate_hex_mesh\u001b[0;34m(voxels, dx, origin, bin_file_name, write)\u001b[0m\n\u001b[1;32m     58\u001b[0m \u001b[38;5;66;03m# Vertices.\u001b[39;00m\n\u001b[1;32m     59\u001b[0m f\u001b[38;5;241m.\u001b[39mwrite(struct\u001b[38;5;241m.\u001b[39mpack(\u001b[38;5;124m'\u001b[39m\u001b[38;5;124mi\u001b[39m\u001b[38;5;124m'\u001b[39m, \u001b[38;5;241m3\u001b[39m))\n\u001b[0;32m---> 60\u001b[0m f\u001b[38;5;241m.\u001b[39mwrite(struct\u001b[38;5;241m.\u001b[39mpack(\u001b[38;5;124m'\u001b[39m\u001b[38;5;124mi\u001b[39m\u001b[38;5;124m'\u001b[39m, \u001b[43mvertices\u001b[49m\u001b[38;5;241;43m.\u001b[39;49m\u001b[43mshape\u001b[49m\u001b[43m[\u001b[49m\u001b[38;5;241;43m1\u001b[39;49m\u001b[43m]\u001b[49m))\n\u001b[1;32m     61\u001b[0m f\u001b[38;5;241m.\u001b[39mwrite(struct\u001b[38;5;241m.\u001b[39mpack(\u001b[38;5;124m'\u001b[39m\u001b[38;5;124md\u001b[39m\u001b[38;5;124m'\u001b[39m \u001b[38;5;241m*\u001b[39m vertices\u001b[38;5;241m.\u001b[39msize, \u001b[38;5;241m*\u001b[39m\u001b[38;5;28mlist\u001b[39m(vertices\u001b[38;5;241m.\u001b[39mravel())))\n\u001b[1;32m     63\u001b[0m \u001b[38;5;66;03m# Faces.\u001b[39;00m\n",
      "\u001b[0;31mIndexError\u001b[0m: tuple index out of range"
     ]
    }
   ],
   "source": [
    "voxel_indices, vertex_flags = hex.generate_hex_mesh(voxels, dx, origin, hex_bin_path)"
   ]
  },
  {
   "cell_type": "code",
   "execution_count": null,
   "metadata": {},
   "outputs": [],
   "source": [
    "hex_object = HexMesh3d()\n",
    "hex_object.Initialize(hex_bin_path)"
   ]
  },
  {
   "cell_type": "code",
   "execution_count": null,
   "metadata": {},
   "outputs": [],
   "source": [
    "hex.hex2obj(hex_object, hex_obj_path)"
   ]
  }
 ],
 "metadata": {
  "kernelspec": {
   "display_name": "Python 3",
   "language": "python",
   "name": "python3"
  },
  "language_info": {
   "codemirror_mode": {
    "name": "ipython",
    "version": 3
   },
   "file_extension": ".py",
   "mimetype": "text/x-python",
   "name": "python",
   "nbconvert_exporter": "python",
   "pygments_lexer": "ipython3",
   "version": "3.8.18"
  }
 },
 "nbformat": 4,
 "nbformat_minor": 2
}
