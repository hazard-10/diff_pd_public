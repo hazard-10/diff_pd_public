{
 "cells": [
  {
   "cell_type": "markdown",
   "metadata": {},
   "source": [
    "This notebook will serve as a testbed for custom shape-targeting forward and backward development and testing\n"
   ]
  },
  {
   "cell_type": "code",
   "execution_count": 1,
   "metadata": {},
   "outputs": [],
   "source": [
    "# First, add a custom function to deformable.h and deformable.cpp that make sure compiles and can modify data\n",
    "import sys\n",
    "sys.path.append('../')\n",
    "import os\n",
    "\n",
    "from pathlib import Path\n",
    "import time\n",
    "import numpy as np\n",
    "import scipy.optimize\n",
    "import pickle\n",
    "import matplotlib.pyplot as plt\n",
    "\n",
    "from py_diff_pd.common.common import ndarray, create_folder\n",
    "from py_diff_pd.common.common import print_info, print_ok, print_error, print_warning\n",
    "from py_diff_pd.common.grad_check import check_gradients\n",
    "from py_diff_pd.common.display import export_gif\n",
    "from py_diff_pd.core.py_diff_pd_core import StdRealVector\n",
    "from py_diff_pd.env.soft_starfish_env_3d import SoftStarfishEnv3d\n",
    "from py_diff_pd.common.project_path import root_path\n",
    "from py_diff_pd.core.py_diff_pd_core import HexMesh3d, HexDeformable, StdRealVector\n",
    "import py_diff_pd.common.hex_mesh as hex"
   ]
  },
  {
   "cell_type": "code",
   "execution_count": null,
   "metadata": {},
   "outputs": [],
   "source": [
    "# initailize an array of 0, len 100\n",
    "x = np.zeros(100)\n",
    "x = StdRealVector(x)\n",
    "y = np.zeros(100)\n",
    "y = StdRealVector(y)\n",
    "\n",
    "deformable = HexDeformable()\n",
    "deformable.PyShapeTargetingForward(x, y)\n",
    "\n",
    "# y should be filled with 1\n",
    "print(y)"
   ]
  }
 ],
 "metadata": {
  "kernelspec": {
   "display_name": "Python 3",
   "language": "python",
   "name": "python3"
  },
  "language_info": {
   "codemirror_mode": {
    "name": "ipython",
    "version": 3
   },
   "file_extension": ".py",
   "mimetype": "text/x-python",
   "name": "python",
   "nbconvert_exporter": "python",
   "pygments_lexer": "ipython3",
   "version": "3.8.18"
  }
 },
 "nbformat": 4,
 "nbformat_minor": 2
}
