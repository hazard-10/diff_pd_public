{
 "cells": [
  {
   "cell_type": "markdown",
   "metadata": {},
   "source": [
    "This notebook will serve as a testbed for custom shape-targeting forward and backward development and testing.\n",
    "\n",
    "Every cell done below would able to run independently after first import"
   ]
  },
  {
   "cell_type": "code",
   "execution_count": 1,
   "metadata": {},
   "outputs": [],
   "source": [
    "# First, add a custom function to deformable.h and deformable.cpp that make sure compiles and can modify data\n",
    "import sys\n",
    "sys.path.append('../')\n",
    "import os\n",
    "\n",
    "from pathlib import Path\n",
    "import time\n",
    "import numpy as np\n",
    "import scipy.optimize\n",
    "import pickle\n",
    "import matplotlib.pyplot as plt\n",
    "\n",
    "from py_diff_pd.common.common import ndarray, create_folder\n",
    "from py_diff_pd.common.common import print_info, print_ok, print_error, print_warning\n",
    "from py_diff_pd.common.grad_check import check_gradients\n",
    "from py_diff_pd.common.display import export_gif\n",
    "from py_diff_pd.core.py_diff_pd_core import StdRealVector\n",
    "from py_diff_pd.env.soft_starfish_env_3d import SoftStarfishEnv3d\n",
    "from py_diff_pd.common.project_path import root_path\n",
    "from py_diff_pd.core.py_diff_pd_core import HexMesh3d, HexDeformable, StdRealVector\n",
    "import py_diff_pd.common.hex_mesh as hex"
   ]
  },
  {
   "cell_type": "markdown",
   "metadata": {},
   "source": [
    "ShapeTarget Compile test"
   ]
  },
  {
   "cell_type": "code",
   "execution_count": 2,
   "metadata": {},
   "outputs": [
    {
     "data": {
      "text/plain": [
       "array([], dtype=float64)"
      ]
     },
     "execution_count": 2,
     "metadata": {},
     "output_type": "execute_result"
    }
   ],
   "source": [
    "# initailize an array of 0, len 100\n",
    "x = np.zeros(100)\n",
    "x = StdRealVector(x)\n",
    "y = np.zeros(100)\n",
    "y = StdRealVector(y)\n",
    "\n",
    "deformable = HexDeformable()\n",
    "\n",
    "# const q, v, actuation, dt, pd_options, \n",
    "# writable q_next, v_next \n",
    "# Assume 3000 elements, 5000 vertices \n",
    "dt = 0.01\n",
    "dof  =200\n",
    "options = {\n",
    "    'max_pd_iter': 1000,\n",
    "    'thread_ct': 20,\n",
    "    'abs_tol': 1e-6,\n",
    "    'rel_tol': 1e-6,\n",
    "    'verbose': 0,\n",
    "    'use_bfgs': 1,\n",
    "    'bfgs_history_size': 10,\n",
    "    'max_ls_iter': 10,\n",
    "    \n",
    "}\n",
    "q, v, act =  StdRealVector(dof), StdRealVector(dof), StdRealVector(dof)\n",
    "q_next, v_next = StdRealVector(dof), StdRealVector(dof)\n",
    "deformable.PyShapeTargetingForward( q, v, act, dt, options, q_next, v_next)\n",
    "q_next = np.array(q_next)\n",
    "q_next\n",
    "\n"
   ]
  },
  {
   "cell_type": "markdown",
   "metadata": {},
   "source": [
    "Prepare for testing the forward pass:\n",
    "* We can either add f_ext to it and see if it behaves just like corotated （good, but no enough）\n",
    "* we use the target shape from starfish testing to see if it can produce the same result. Would also be interesting to see if it requires some iterations for sure."
   ]
  },
  {
   "cell_type": "code",
   "execution_count": null,
   "metadata": {},
   "outputs": [],
   "source": [
    "# Load the json output from soft_starfish.ipynb, \n",
    "# which output the ideal pos for each hex verts.\n",
    "# Then we can compute the Deformation gradient, and take the middle as the target\n"
   ]
  }
 ],
 "metadata": {
  "kernelspec": {
   "display_name": "Python 3",
   "language": "python",
   "name": "python3"
  },
  "language_info": {
   "codemirror_mode": {
    "name": "ipython",
    "version": 3
   },
   "file_extension": ".py",
   "mimetype": "text/x-python",
   "name": "python",
   "nbconvert_exporter": "python",
   "pygments_lexer": "ipython3",
   "version": "3.8.18"
  }
 },
 "nbformat": 4,
 "nbformat_minor": 2
}
