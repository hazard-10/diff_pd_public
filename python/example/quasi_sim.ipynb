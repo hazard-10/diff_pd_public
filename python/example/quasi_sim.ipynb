{
 "cells": [
  {
   "cell_type": "markdown",
   "metadata": {},
   "source": [
    "This notebook will serve as a testbed for custom shape-targeting forward and backward development and testing.\n",
    "\n",
    "Every cell done below would able to run independently after first import"
   ]
  },
  {
   "cell_type": "code",
   "execution_count": 16,
   "metadata": {},
   "outputs": [],
   "source": [
    "# First, add a custom function to deformable.h and deformable.cpp that make sure compiles and can modify data\n",
    "import sys\n",
    "sys.path.append('../')\n",
    "import os\n",
    "\n",
    "from pathlib import Path\n",
    "import time\n",
    "import numpy as np\n",
    "import scipy.optimize\n",
    "import pickle\n",
    "import matplotlib.pyplot as plt\n",
    "\n",
    "from py_diff_pd.common.common import ndarray, create_folder\n",
    "from py_diff_pd.common.common import print_info, print_ok, print_error, print_warning\n",
    "from py_diff_pd.common.grad_check import check_gradients\n",
    "from py_diff_pd.common.display import export_gif\n",
    "from py_diff_pd.core.py_diff_pd_core import StdRealVector\n",
    "from py_diff_pd.env.soft_starfish_env_3d import SoftStarfishEnv3d\n",
    "from py_diff_pd.common.project_path import root_path\n",
    "from py_diff_pd.core.py_diff_pd_core import HexMesh3d, HexDeformable, StdRealVector\n",
    "import py_diff_pd.common.hex_mesh as hex"
   ]
  },
  {
   "cell_type": "markdown",
   "metadata": {},
   "source": [
    "ShapeTarget Compile test"
   ]
  },
  {
   "cell_type": "code",
   "execution_count": 17,
   "metadata": {},
   "outputs": [
    {
     "name": "stdout",
     "output_type": "stream",
     "text": [
      "q_next: 0 0 0 0 0 0 0 0 0 0\n",
      "0.0\n"
     ]
    }
   ],
   "source": [
    "# initailize an array of 0, len 100\n",
    "x = np.zeros(100)\n",
    "x = StdRealVector(x)\n",
    "y = np.zeros(100)\n",
    "y = StdRealVector(y)\n",
    "\n",
    "deformable = HexDeformable()\n",
    "\n",
    "# const q, v, actuation, dt, pd_options, \n",
    "# writable q_next, v_next \n",
    "# Assume 3000 elements, 5000 vertices \n",
    "dt = 0.01\n",
    "dof  =200\n",
    "options = {\n",
    "    'max_pd_iter': 1000,\n",
    "    'thread_ct': 20,\n",
    "    'abs_tol': 1e-6,\n",
    "    'rel_tol': 1e-6,\n",
    "    'verbose': 0,\n",
    "    'use_bfgs': 1,\n",
    "    'bfgs_history_size': 10,\n",
    "    'max_ls_iter': 10,\n",
    "    \n",
    "}\n",
    "q, v, act =  StdRealVector(dof), StdRealVector(dof), StdRealVector(dof)\n",
    "q_next, v_next = StdRealVector(dof), StdRealVector(dof)\n",
    "deformable.PyShapeTargetingForward( q, v, act, dt, options, q_next, v_next)\n",
    "q_next = np.array(q_next)\n",
    "# avg diff between q and q_next\n",
    "print(np.mean(np.abs(q_next - q)))\n",
    "\n"
   ]
  },
  {
   "cell_type": "markdown",
   "metadata": {},
   "source": [
    "example of getting a ShapeTarget act matrix given target q"
   ]
  },
  {
   "cell_type": "code",
   "execution_count": 18,
   "metadata": {},
   "outputs": [
    {
     "name": "stdout",
     "output_type": "stream",
     "text": [
      "True\n"
     ]
    },
    {
     "ename": "TypeError",
     "evalue": "Wrong number or type of arguments for overloaded function 'new_StdRealVector'.\n  Possible C/C++ prototypes are:\n    std::vector< real >::vector()\n    std::vector< real >::vector(std::vector< real > const &)\n    std::vector< real >::vector(std::vector< double >::size_type)\n    std::vector< real >::vector(std::vector< double >::size_type,std::vector< double >::value_type const &)\n",
     "output_type": "error",
     "traceback": [
      "\u001b[0;31m---------------------------------------------------------------------------\u001b[0m",
      "\u001b[0;31mTypeError\u001b[0m                                 Traceback (most recent call last)",
      "Cell \u001b[0;32mIn[18], line 47\u001b[0m\n\u001b[1;32m     45\u001b[0m act \u001b[38;5;241m=\u001b[39m  [[\u001b[38;5;241m1\u001b[39m,\u001b[38;5;241m0\u001b[39m,\u001b[38;5;241m0\u001b[39m,\u001b[38;5;241m1\u001b[39m,\u001b[38;5;241m0\u001b[39m,\u001b[38;5;241m1\u001b[39m] \u001b[38;5;28;01mfor\u001b[39;00m i \u001b[38;5;129;01min\u001b[39;00m \u001b[38;5;28mrange\u001b[39m(default_hex_mesh\u001b[38;5;241m.\u001b[39mNumOfElements() \u001b[38;5;241m*\u001b[39m \u001b[38;5;241m8\u001b[39m)]\n\u001b[1;32m     46\u001b[0m act \u001b[38;5;241m=\u001b[39m np\u001b[38;5;241m.\u001b[39marray(act)\u001b[38;5;241m.\u001b[39mflatten()\n\u001b[0;32m---> 47\u001b[0m act \u001b[38;5;241m=\u001b[39m \u001b[43mStdRealVector\u001b[49m\u001b[43m(\u001b[49m\u001b[43mact\u001b[49m\u001b[43m)\u001b[49m\n",
      "File \u001b[0;32m/mnt/e/wsl_projects/diff_pd_public/python/example/../py_diff_pd/core/py_diff_pd_core.py:572\u001b[0m, in \u001b[0;36mStdRealVector.__init__\u001b[0;34m(self, *args)\u001b[0m\n\u001b[1;32m    571\u001b[0m \u001b[38;5;28;01mdef\u001b[39;00m \u001b[38;5;21m__init__\u001b[39m(\u001b[38;5;28mself\u001b[39m, \u001b[38;5;241m*\u001b[39margs):\n\u001b[0;32m--> 572\u001b[0m     _py_diff_pd_core\u001b[38;5;241m.\u001b[39mStdRealVector_swiginit(\u001b[38;5;28mself\u001b[39m, \u001b[43m_py_diff_pd_core\u001b[49m\u001b[38;5;241;43m.\u001b[39;49m\u001b[43mnew_StdRealVector\u001b[49m\u001b[43m(\u001b[49m\u001b[38;5;241;43m*\u001b[39;49m\u001b[43margs\u001b[49m\u001b[43m)\u001b[49m)\n",
      "\u001b[0;31mTypeError\u001b[0m: Wrong number or type of arguments for overloaded function 'new_StdRealVector'.\n  Possible C/C++ prototypes are:\n    std::vector< real >::vector()\n    std::vector< real >::vector(std::vector< real > const &)\n    std::vector< real >::vector(std::vector< double >::size_type)\n    std::vector< real >::vector(std::vector< double >::size_type,std::vector< double >::value_type const &)\n"
     ]
    }
   ],
   "source": [
    "# Load the json output from soft_starfish.ipynb, \n",
    "# which output the ideal pos for each hex verts.\n",
    "# Then we can compute the Deformation gradient, and take the R\n",
    "# R stored in act, size is num_of_elements * (sample_num * 6), where 6 is the symmetric part of R\n",
    "\n",
    "obj_num = 90 \n",
    "\n",
    "# common parameters\n",
    "asset_folder = Path('/mnt/e/muscleCode/sample_muscle_data/starfish')\n",
    "mesh_bin_str = str(asset_folder / 'starfish_demo_voxel.bin')\n",
    "gt_folder = Path('/mnt/e/wsl_projects/diff_pd_public/python/example/quasi_starfish/init_ground_truth')\n",
    "gt_json = str(gt_folder)+ '/'+ 'starfish_' + str(obj_num) + '_init_ground_truth.json'\n",
    "\n",
    "render_folder = Path('/mnt/e/wsl_projects/diff_pd_public/python/example/quasi_starfish')\n",
    "render_bin_path = render_folder / str('starfish_voxel_'+str(obj_num)+'.bin')\n",
    "render_bin_str = str(render_bin_path)\n",
    "obj_output_file = render_folder / str('starfish_voxel_'+str(obj_num)+'.obj')\n",
    "obj_output_str = str(obj_output_file)\n",
    "# pass whole file into a list\n",
    "float_list = []\n",
    "with open(gt_json, 'r') as f:\n",
    "    content = f.read()\n",
    "    float_strings = content.strip('[]').split(',')\n",
    "    float_list = [float(x) for x in float_strings]\n",
    "# Deformable param\n",
    "youngs_modulus = 5e5\n",
    "poissons_ratio = 0.45\n",
    "la = youngs_modulus * poissons_ratio / ((1 + poissons_ratio) * (1 - 2 * poissons_ratio))\n",
    "mu = youngs_modulus / (2 * (1 + poissons_ratio))\n",
    "density = 1e3\n",
    "thread_ct = 20\n",
    "dt = 1e-2\n",
    "\n",
    "default_hex_mesh = HexMesh3d()\n",
    "default_hex_mesh.Initialize(mesh_bin_str) \n",
    "deformable = HexDeformable()\n",
    "deformable.Initialize(mesh_bin_str, density, 'none', youngs_modulus, poissons_ratio)\n",
    "\n",
    "act = StdRealVector(0)\n",
    "deformable.PyGetShapeTargetSMatrixFromDeformation(float_list, act)\n",
    "act = np.array(act)\n",
    "print(int(act.shape[0] // 48) == default_hex_mesh.NumOfElements())\n"
   ]
  },
  {
   "cell_type": "markdown",
   "metadata": {},
   "source": [
    "Next we input the act into the forward pass and compare the diff, after some number of iterations"
   ]
  },
  {
   "cell_type": "code",
   "execution_count": null,
   "metadata": {},
   "outputs": [],
   "source": [
    "  # visualize the hex mesh\n",
    "from py_diff_pd.common.renderer import PbrtRenderer\n",
    "png_file = render_folder / 'starfish_default.png'\n",
    "def render_quasi_starfish(mesh_file, png_file):\n",
    "    options = {\n",
    "        'file_name': png_file,\n",
    "        'light_map': 'uffizi-large.exr',\n",
    "        'sample': 4,\n",
    "        'max_depth': 2,\n",
    "        'camera_pos': (20, 30, 50),\n",
    "        'camera_lookat': (1, -1, 0), # roughly the center of starfish obj\n",
    "        \n",
    "    }\n",
    "    renderer = PbrtRenderer(options)\n",
    "    \n",
    "    mesh = HexMesh3d()\n",
    "    mesh.Initialize(mesh_file)\n",
    "    renderer.add_hex_mesh(mesh, render_voxel_edge=True, color=(.3, .7, .5), transforms=[\n",
    "        ('r', [90, 1, 0, 0]),  # Rotate 90 degrees around the x-axis\n",
    "        ('t', [0, 0, 0]),\n",
    "        ])\n",
    "    # renderer.add_tri_mesh(Path(root_path) / 'asset/mesh/flat_ground.obj',\n",
    "    #         texture_img='chkbd_24_0.7', transforms=[\n",
    "    #             ('s', 4),\n",
    "    #             ('t', [0, 0, -1]),\n",
    "    #             ])\n",
    "    \n",
    "    \n",
    "    renderer.render()\n",
    "\n"
   ]
  },
  {
   "cell_type": "code",
   "execution_count": null,
   "metadata": {},
   "outputs": [],
   "source": [
    "deformable_shapeTarget = HexDeformable()\n",
    "deformable_shapeTarget.Initialize(mesh_bin_str, density, 'none', youngs_modulus, poissons_ratio)\n",
    "\n",
    "png_file = render_folder / f'starfish_{obj_num}_shape_target.png'\n",
    "\n",
    "q_curr = default_hex_mesh.py_vertices()\n",
    "v_curr = np.zeros(deformable_shapeTarget.dofs())\n",
    "q_next, v_next = StdRealVector(dof), StdRealVector(dof) \n",
    "\n",
    "deformable_shapeTarget.PySaveToMeshFile(q_curr, render_bin_str)\n",
    "render_quasi_starfish(render_bin_str, png_file)"
   ]
  },
  {
   "cell_type": "code",
   "execution_count": null,
   "metadata": {},
   "outputs": [
    {
     "ename": "TypeError",
     "evalue": "in method 'Deformable38_PyShapeTargetingForward', argument 4 of type 'std::vector< real,std::allocator< real > > const &'",
     "output_type": "error",
     "traceback": [
      "\u001b[0;31m---------------------------------------------------------------------------\u001b[0m",
      "\u001b[0;31mTypeError\u001b[0m                                 Traceback (most recent call last)",
      "Cell \u001b[0;32mIn[15], line 1\u001b[0m\n\u001b[0;32m----> 1\u001b[0m \u001b[43mdeformable_shapeTarget\u001b[49m\u001b[38;5;241;43m.\u001b[39;49m\u001b[43mPyShapeTargetingForward\u001b[49m\u001b[43m(\u001b[49m\u001b[43mq_curr\u001b[49m\u001b[43m,\u001b[49m\u001b[43m \u001b[49m\u001b[43mv_curr\u001b[49m\u001b[43m,\u001b[49m\u001b[43m \u001b[49m\u001b[43mact\u001b[49m\u001b[43m,\u001b[49m\u001b[43m \u001b[49m\u001b[43mdt\u001b[49m\u001b[43m,\u001b[49m\u001b[43m \u001b[49m\u001b[43moptions\u001b[49m\u001b[43m,\u001b[49m\u001b[43m \u001b[49m\u001b[43mq_next\u001b[49m\u001b[43m,\u001b[49m\u001b[43m \u001b[49m\u001b[43mv_next\u001b[49m\u001b[43m)\u001b[49m\n\u001b[1;32m      2\u001b[0m q_next \u001b[38;5;241m=\u001b[39m np\u001b[38;5;241m.\u001b[39marray(q_next)\n\u001b[1;32m      3\u001b[0m deformable_shapeTarget\u001b[38;5;241m.\u001b[39mPySaveToMeshFile(q_next, render_bin_str)\n",
      "File \u001b[0;32m/mnt/e/wsl_projects/diff_pd_public/python/example/../py_diff_pd/core/py_diff_pd_core.py:1915\u001b[0m, in \u001b[0;36mDeformable38.PyShapeTargetingForward\u001b[0;34m(self, q, v, act, dt, options, q_next, v_next)\u001b[0m\n\u001b[1;32m   1914\u001b[0m \u001b[38;5;28;01mdef\u001b[39;00m \u001b[38;5;21mPyShapeTargetingForward\u001b[39m(\u001b[38;5;28mself\u001b[39m, q, v, act, dt, options, q_next, v_next):\n\u001b[0;32m-> 1915\u001b[0m     \u001b[38;5;28;01mreturn\u001b[39;00m \u001b[43m_py_diff_pd_core\u001b[49m\u001b[38;5;241;43m.\u001b[39;49m\u001b[43mDeformable38_PyShapeTargetingForward\u001b[49m\u001b[43m(\u001b[49m\u001b[38;5;28;43mself\u001b[39;49m\u001b[43m,\u001b[49m\u001b[43m \u001b[49m\u001b[43mq\u001b[49m\u001b[43m,\u001b[49m\u001b[43m \u001b[49m\u001b[43mv\u001b[49m\u001b[43m,\u001b[49m\u001b[43m \u001b[49m\u001b[43mact\u001b[49m\u001b[43m,\u001b[49m\u001b[43m \u001b[49m\u001b[43mdt\u001b[49m\u001b[43m,\u001b[49m\u001b[43m \u001b[49m\u001b[43moptions\u001b[49m\u001b[43m,\u001b[49m\u001b[43m \u001b[49m\u001b[43mq_next\u001b[49m\u001b[43m,\u001b[49m\u001b[43m \u001b[49m\u001b[43mv_next\u001b[49m\u001b[43m)\u001b[49m\n",
      "\u001b[0;31mTypeError\u001b[0m: in method 'Deformable38_PyShapeTargetingForward', argument 4 of type 'std::vector< real,std::allocator< real > > const &'"
     ]
    }
   ],
   "source": [
    "deformable_shapeTarget.PyShapeTargetingForward(q_curr, v_curr, act, dt, options, q_next, v_next)\n",
    "q_next = np.array(q_next)\n",
    "deformable_shapeTarget.PySaveToMeshFile(q_next, render_bin_str)\n",
    "png_file = render_folder / f'starfish_{obj_num}_shape_target_next.png'\n",
    "render_quasi_starfish(render_bin_str, png_file)\n",
    "\n"
   ]
  },
  {
   "cell_type": "code",
   "execution_count": null,
   "metadata": {},
   "outputs": [],
   "source": [
    "# print avg diff between q and q_next\n",
    "print(np.mean(np.abs(q_next - q_curr)))"
   ]
  },
  {
   "cell_type": "code",
   "execution_count": null,
   "metadata": {},
   "outputs": [],
   "source": [
    "v_next = np.array(v_next)\n",
    "q_next, v_next"
   ]
  }
 ],
 "metadata": {
  "kernelspec": {
   "display_name": "Python 3",
   "language": "python",
   "name": "python3"
  },
  "language_info": {
   "codemirror_mode": {
    "name": "ipython",
    "version": 3
   },
   "file_extension": ".py",
   "mimetype": "text/x-python",
   "name": "python",
   "nbconvert_exporter": "python",
   "pygments_lexer": "ipython3",
   "version": "3.8.18"
  }
 },
 "nbformat": 4,
 "nbformat_minor": 2
}
