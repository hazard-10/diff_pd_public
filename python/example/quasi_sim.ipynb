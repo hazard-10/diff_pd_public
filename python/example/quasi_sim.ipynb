{
 "cells": [
  {
   "cell_type": "markdown",
   "metadata": {},
   "source": [
    "This notebook will serve as a testbed for custom shape-targeting forward and backward development and testing.\n",
    "\n",
    "Every cell done below would able to run independently after first import"
   ]
  },
  {
   "cell_type": "code",
   "execution_count": 2,
   "metadata": {},
   "outputs": [],
   "source": [
    "# First, add a custom function to deformable.h and deformable.cpp that make sure compiles and can modify data\n",
    "import sys\n",
    "sys.path.append('../')\n",
    "import os\n",
    "\n",
    "from pathlib import Path\n",
    "import time\n",
    "import numpy as np\n",
    "import scipy.optimize\n",
    "import pickle\n",
    "import matplotlib.pyplot as plt\n",
    "\n",
    "from py_diff_pd.common.common import ndarray, create_folder\n",
    "from py_diff_pd.common.common import print_info, print_ok, print_error, print_warning\n",
    "from py_diff_pd.common.grad_check import check_gradients\n",
    "from py_diff_pd.common.display import export_gif\n",
    "from py_diff_pd.core.py_diff_pd_core import StdRealVector\n",
    "from py_diff_pd.env.soft_starfish_env_3d import SoftStarfishEnv3d\n",
    "from py_diff_pd.common.project_path import root_path\n",
    "from py_diff_pd.core.py_diff_pd_core import HexMesh3d, HexDeformable, StdRealVector\n",
    "import py_diff_pd.common.hex_mesh as hex"
   ]
  },
  {
   "cell_type": "markdown",
   "metadata": {},
   "source": [
    "ShapeTarget Compile test"
   ]
  },
  {
   "cell_type": "code",
   "execution_count": 7,
   "metadata": {},
   "outputs": [
    {
     "data": {
      "text/plain": [
       "array([], dtype=float64)"
      ]
     },
     "execution_count": 7,
     "metadata": {},
     "output_type": "execute_result"
    }
   ],
   "source": [
    "# initailize an array of 0, len 100\n",
    "x = np.zeros(100)\n",
    "x = StdRealVector(x)\n",
    "y = np.zeros(100)\n",
    "y = StdRealVector(y)\n",
    "\n",
    "deformable = HexDeformable()\n",
    "\n",
    "# const q, v, actuation, dt, pd_options, \n",
    "# writable q_next, v_next \n",
    "# Assume 3000 elements, 5000 vertices \n",
    "dt = 0.01\n",
    "dof  =200\n",
    "options = {\n",
    "    'max_pd_iter': 1000,\n",
    "    'thread_ct': 20,\n",
    "    'abs_tol': 1e-6,\n",
    "    'rel_tol': 1e-6,\n",
    "    'verbose': 0,\n",
    "    'use_bfgs': 1,\n",
    "    'bfgs_history_size': 10,\n",
    "    'max_ls_iter': 10,\n",
    "    \n",
    "}\n",
    "q, v, act =  StdRealVector(dof), StdRealVector(dof), StdRealVector(dof)\n",
    "q_next, v_next = StdRealVector(dof), StdRealVector(dof)\n",
    "deformable.PyShapeTargetingForward( q, v, act, dt, options, q_next, v_next)\n",
    "q_next = np.array(q_next)\n",
    "q_next\n",
    "\n"
   ]
  },
  {
   "cell_type": "markdown",
   "metadata": {},
   "source": [
    "example of getting a ShapeTarget act matrix given target q"
   ]
  },
  {
   "cell_type": "code",
   "execution_count": 17,
   "metadata": {},
   "outputs": [
    {
     "name": "stdout",
     "output_type": "stream",
     "text": [
      "(104400,) True\n"
     ]
    }
   ],
   "source": [
    "# Load the json output from soft_starfish.ipynb, \n",
    "# which output the ideal pos for each hex verts.\n",
    "# Then we can compute the Deformation gradient, and take the R\n",
    "# R stored in act, size is num_of_elements * (sample_num * 6), where 6 is the symmetric part of R\n",
    "\n",
    "obj_num = 90 \n",
    "\n",
    "# common parameters\n",
    "asset_folder = Path('/mnt/e/muscleCode/sample_muscle_data/starfish')\n",
    "mesh_bin_str = str(asset_folder / 'starfish_demo_voxel.bin')\n",
    "gt_folder = Path('/mnt/e/wsl_projects/diff_pd_public/python/example/quasi_starfish/init_ground_truth')\n",
    "gt_json = str(gt_folder)+ '/'+ 'starfish_' + str(obj_num) + '_init_ground_truth.json'\n",
    "# pass whole file into a list\n",
    "float_list = []\n",
    "with open(gt_json, 'r') as f:\n",
    "    content = f.read()\n",
    "    float_strings = content.strip('[]').split(',')\n",
    "    float_list = [float(x) for x in float_strings]\n",
    "# Deformable param\n",
    "youngs_modulus = 5e5\n",
    "poissons_ratio = 0.45\n",
    "la = youngs_modulus * poissons_ratio / ((1 + poissons_ratio) * (1 - 2 * poissons_ratio))\n",
    "mu = youngs_modulus / (2 * (1 + poissons_ratio))\n",
    "density = 1e3\n",
    "thread_ct = 20\n",
    "dt = 1e-2\n",
    "\n",
    "default_hex_mesh = HexMesh3d()\n",
    "default_hex_mesh.Initialize(mesh_bin_str) \n",
    "deformable = HexDeformable()\n",
    "deformable.Initialize(mesh_bin_str, density, 'none', youngs_modulus, poissons_ratio)\n",
    "\n",
    "act = StdRealVector(0)\n",
    "deformable.PyGetShapeTargetSMatrixFromDeformation(float_list, act)\n",
    "act = np.array(act)\n",
    "print(int(act.shape[0] // 48) == default_hex_mesh.NumOfElements())\n",
    "print(act[:9])\n"
   ]
  },
  {
   "cell_type": "markdown",
   "metadata": {},
   "source": [
    "Next we input the act into the forward pass and compare the diff, after some number of iterations"
   ]
  },
  {
   "cell_type": "code",
   "execution_count": null,
   "metadata": {},
   "outputs": [],
   "source": [
    "  "
   ]
  }
 ],
 "metadata": {
  "kernelspec": {
   "display_name": "Python 3",
   "language": "python",
   "name": "python3"
  },
  "language_info": {
   "codemirror_mode": {
    "name": "ipython",
    "version": 3
   },
   "file_extension": ".py",
   "mimetype": "text/x-python",
   "name": "python",
   "nbconvert_exporter": "python",
   "pygments_lexer": "ipython3",
   "version": "3.8.18"
  }
 },
 "nbformat": 4,
 "nbformat_minor": 2
}
